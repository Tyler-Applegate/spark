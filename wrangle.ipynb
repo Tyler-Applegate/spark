{
 "cells": [
  {
   "cell_type": "markdown",
   "metadata": {},
   "source": [
    "## Spark Wrangling Exercises"
   ]
  },
  {
   "cell_type": "code",
   "execution_count": 1,
   "metadata": {},
   "outputs": [],
   "source": [
    "# imports\n",
    "from pyspark.sql import SparkSession\n",
    "from pyspark.sql.functions import *\n",
    "from pyspark.sql.types import StructType, StructField, StringType\n",
    "\n",
    "spark = SparkSession.builder.getOrCreate()"
   ]
  },
  {
   "cell_type": "markdown",
   "metadata": {},
   "source": [
    "### Data Acquisition\n",
    "- These exercises should go in a notebook or script named wrangle. Add, commit, and push your changes.\n",
    "- This exercises uses the 'case.csv', 'dept.csv', and 'source.csv' files from the san antonio 311 call dataset."
   ]
  },
  {
   "cell_type": "markdown",
   "metadata": {},
   "source": [
    "1. Read the case, department, and source data into their own spark dataframes."
   ]
  },
  {
   "cell_type": "code",
   "execution_count": 2,
   "metadata": {},
   "outputs": [],
   "source": [
    "# first I need to download all three files as csv, and store locally"
   ]
  },
  {
   "cell_type": "code",
   "execution_count": 3,
   "metadata": {},
   "outputs": [],
   "source": [
    "# case\n",
    "# Read in CSV file \n",
    "case = (spark.read.csv(\"case.csv\",\n",
    "                     sep=\",\",\n",
    "                     header=True,\n",
    "                     inferSchema=True)\n",
    "     )"
   ]
  },
  {
   "cell_type": "code",
   "execution_count": 4,
   "metadata": {},
   "outputs": [
    {
     "name": "stdout",
     "output_type": "stream",
     "text": [
      "-RECORD 0----------------------------------------------------\n",
      " case_id              | 1014127332                           \n",
      " case_opened_date     | 1/1/18 0:42                          \n",
      " case_closed_date     | 1/1/18 12:29                         \n",
      " SLA_due_date         | 9/26/20 0:42                         \n",
      " case_late            | NO                                   \n",
      " num_days_late        | -998.5087616000001                   \n",
      " case_closed          | YES                                  \n",
      " dept_division        | Field Operations                     \n",
      " service_request_type | Stray Animal                         \n",
      " SLA_days             | 999.0                                \n",
      " case_status          | Closed                               \n",
      " source_id            | svcCRMLS                             \n",
      " request_address      | 2315  EL PASO ST, San Antonio, 78207 \n",
      " council_district     | 5                                    \n",
      "only showing top 1 row\n",
      "\n"
     ]
    }
   ],
   "source": [
    "case.show(1, False, True)"
   ]
  },
  {
   "cell_type": "code",
   "execution_count": 5,
   "metadata": {},
   "outputs": [],
   "source": [
    "# dept\n",
    "# Read in CSV file \n",
    "dept = (spark.read.csv(\"dept.csv\",\n",
    "                     sep=\",\",\n",
    "                     header=True,\n",
    "                     inferSchema=True)\n",
    "     )"
   ]
  },
  {
   "cell_type": "code",
   "execution_count": 6,
   "metadata": {},
   "outputs": [
    {
     "name": "stdout",
     "output_type": "stream",
     "text": [
      "-RECORD 0----------------------------------\n",
      " dept_division          | 311 Call Center  \n",
      " dept_name              | Customer Service \n",
      " standardized_dept_name | Customer Service \n",
      " dept_subject_to_SLA    | YES              \n",
      "only showing top 1 row\n",
      "\n"
     ]
    }
   ],
   "source": [
    "dept.show(1, False, True)"
   ]
  },
  {
   "cell_type": "code",
   "execution_count": 7,
   "metadata": {},
   "outputs": [],
   "source": [
    "# source\n",
    "# Read in CSV file \n",
    "source = (spark.read.csv(\"source.csv\",\n",
    "                     sep=\",\",\n",
    "                     header=True,\n",
    "                     inferSchema=True)\n",
    "     )"
   ]
  },
  {
   "cell_type": "code",
   "execution_count": 8,
   "metadata": {},
   "outputs": [
    {
     "name": "stdout",
     "output_type": "stream",
     "text": [
      "-RECORD 0---------------------------\n",
      " source_id       | 100137           \n",
      " source_username | Merlene Blodgett \n",
      "only showing top 1 row\n",
      "\n"
     ]
    }
   ],
   "source": [
    "source.show(1, False, True)"
   ]
  },
  {
   "cell_type": "markdown",
   "metadata": {},
   "source": [
    "2. Let's see how writing to the local disk works in spark:\n",
    "- Write the code necessary to store the source data in both csv and json format, store these as 'sources_csv' and 'sources_json'\n",
    "- Inspect your folder structure. What do you notice?"
   ]
  },
  {
   "cell_type": "code",
   "execution_count": 9,
   "metadata": {},
   "outputs": [],
   "source": [
    "# let's write as a csv first and document what happens...\n",
    "(\n",
    "    source.write.format('csv')\n",
    "    .mode('overwrite')\n",
    "    .option('header', 'true')\n",
    "    .save('sources_csv')\n",
    ")"
   ]
  },
  {
   "cell_type": "code",
   "execution_count": 10,
   "metadata": {},
   "outputs": [],
   "source": [
    "# now as a json...\n",
    "(\n",
    "    source.write.format('json')\n",
    "    .mode('overwrite')\n",
    "    .option('header', 'true')\n",
    "    .save('sources_json')\n",
    ")"
   ]
  },
  {
   "cell_type": "code",
   "execution_count": 11,
   "metadata": {},
   "outputs": [],
   "source": [
    "# It appears both files are too large to be stored locally, \n",
    "# and that only a small portion was saved"
   ]
  },
  {
   "cell_type": "markdown",
   "metadata": {},
   "source": [
    "3. Inspect the data in your dataframes. Are the data types appropriate? Write the code necessary to cast the values to the appropriate types."
   ]
  },
  {
   "cell_type": "markdown",
   "metadata": {},
   "source": [
    "#### Case"
   ]
  },
  {
   "cell_type": "code",
   "execution_count": 12,
   "metadata": {},
   "outputs": [
    {
     "name": "stdout",
     "output_type": "stream",
     "text": [
      "-RECORD 0------------------------------------\n",
      " case_id              | 1014127332           \n",
      " case_opened_date     | 1/1/18 0:42          \n",
      " case_closed_date     | 1/1/18 12:29         \n",
      " SLA_due_date         | 9/26/20 0:42         \n",
      " case_late            | NO                   \n",
      " num_days_late        | -998.5087616000001   \n",
      " case_closed          | YES                  \n",
      " dept_division        | Field Operations     \n",
      " service_request_type | Stray Animal         \n",
      " SLA_days             | 999.0                \n",
      " case_status          | Closed               \n",
      " source_id            | svcCRMLS             \n",
      " request_address      | 2315  EL PASO ST,... \n",
      " council_district     | 5                    \n",
      "only showing top 1 row\n",
      "\n"
     ]
    }
   ],
   "source": [
    "case.show(1, vertical=True)"
   ]
  },
  {
   "cell_type": "code",
   "execution_count": 13,
   "metadata": {},
   "outputs": [
    {
     "data": {
      "text/plain": [
       "[('case_id', 'int'),\n",
       " ('case_opened_date', 'string'),\n",
       " ('case_closed_date', 'string'),\n",
       " ('SLA_due_date', 'string'),\n",
       " ('case_late', 'string'),\n",
       " ('num_days_late', 'double'),\n",
       " ('case_closed', 'string'),\n",
       " ('dept_division', 'string'),\n",
       " ('service_request_type', 'string'),\n",
       " ('SLA_days', 'double'),\n",
       " ('case_status', 'string'),\n",
       " ('source_id', 'string'),\n",
       " ('request_address', 'string'),\n",
       " ('council_district', 'int')]"
      ]
     },
     "execution_count": 13,
     "metadata": {},
     "output_type": "execute_result"
    }
   ],
   "source": [
    "# case\n",
    "case.dtypes"
   ]
  },
  {
   "cell_type": "code",
   "execution_count": 14,
   "metadata": {},
   "outputs": [],
   "source": [
    "# Change 'SLA_due_date' to 'case_due_date'\n",
    "# Change 'SLA_days' tp 'case_days_alotted'\n",
    "\n",
    "case = case.withColumnRenamed('SLA_due_date', 'case_due_date')\n",
    "case = case.withColumnRenamed('SLA_days', 'case_days')"
   ]
  },
  {
   "cell_type": "code",
   "execution_count": 15,
   "metadata": {},
   "outputs": [
    {
     "name": "stdout",
     "output_type": "stream",
     "text": [
      "-RECORD 0----------------------------------------------------\n",
      " case_id              | 1014127332                           \n",
      " case_opened_date     | 1/1/18 0:42                          \n",
      " case_closed_date     | 1/1/18 12:29                         \n",
      " case_due_date        | 9/26/20 0:42                         \n",
      " case_late            | NO                                   \n",
      " num_days_late        | -998.5087616000001                   \n",
      " case_closed          | YES                                  \n",
      " dept_division        | Field Operations                     \n",
      " service_request_type | Stray Animal                         \n",
      " case_days            | 999.0                                \n",
      " case_status          | Closed                               \n",
      " source_id            | svcCRMLS                             \n",
      " request_address      | 2315  EL PASO ST, San Antonio, 78207 \n",
      " council_district     | 5                                    \n",
      "only showing top 1 row\n",
      "\n"
     ]
    }
   ],
   "source": [
    "# did it work as expected?\n",
    "case.show(1, truncate = False, vertical = True)"
   ]
  },
  {
   "cell_type": "code",
   "execution_count": 16,
   "metadata": {},
   "outputs": [],
   "source": [
    "# 'case_late' and 'case_closed' to boolean\n",
    "case = case.withColumn('case_closed', expr('case_closed == \"YES\"'))\\\n",
    ".withColumn('case_late', expr('case_late == \"YES\"'))"
   ]
  },
  {
   "cell_type": "code",
   "execution_count": 17,
   "metadata": {},
   "outputs": [
    {
     "name": "stdout",
     "output_type": "stream",
     "text": [
      "-RECORD 0----------------------------------------------------\n",
      " case_id              | 1014127332                           \n",
      " case_opened_date     | 1/1/18 0:42                          \n",
      " case_closed_date     | 1/1/18 12:29                         \n",
      " case_due_date        | 9/26/20 0:42                         \n",
      " case_late            | false                                \n",
      " num_days_late        | -998.5087616000001                   \n",
      " case_closed          | true                                 \n",
      " dept_division        | Field Operations                     \n",
      " service_request_type | Stray Animal                         \n",
      " case_days            | 999.0                                \n",
      " case_status          | Closed                               \n",
      " source_id            | svcCRMLS                             \n",
      " request_address      | 2315  EL PASO ST, San Antonio, 78207 \n",
      " council_district     | 5                                    \n",
      "only showing top 1 row\n",
      "\n"
     ]
    }
   ],
   "source": [
    "# did it work as expected?\n",
    "case.show(1, truncate = False, vertical = True)"
   ]
  },
  {
   "cell_type": "code",
   "execution_count": 18,
   "metadata": {},
   "outputs": [],
   "source": [
    "# council district as a string\n",
    "case = case.withColumn('council_district', col('council_district').cast('string'))"
   ]
  },
  {
   "cell_type": "code",
   "execution_count": 19,
   "metadata": {},
   "outputs": [],
   "source": [
    "# 'case_opened_date', 'case_closed_date', 'case_due_date' to datetime format\n",
    "\n",
    "fmt = \"M/d/yy H:mm\"\n",
    "\n",
    "case = case.withColumn('case_opened_date', to_timestamp('case_opened_date', fmt))\\\n",
    ".withColumn('case_closed_date', to_timestamp('case_closed_date', fmt))\\\n",
    ".withColumn('case_due_date', to_timestamp('case_due_date', fmt))"
   ]
  },
  {
   "cell_type": "code",
   "execution_count": 20,
   "metadata": {},
   "outputs": [
    {
     "name": "stdout",
     "output_type": "stream",
     "text": [
      "-RECORD 0----------------------------------------------------\n",
      " case_id              | 1014127332                           \n",
      " case_opened_date     | 2018-01-01 00:42:00                  \n",
      " case_closed_date     | 2018-01-01 12:29:00                  \n",
      " case_due_date        | 2020-09-26 00:42:00                  \n",
      " case_late            | false                                \n",
      " num_days_late        | -998.5087616000001                   \n",
      " case_closed          | true                                 \n",
      " dept_division        | Field Operations                     \n",
      " service_request_type | Stray Animal                         \n",
      " case_days            | 999.0                                \n",
      " case_status          | Closed                               \n",
      " source_id            | svcCRMLS                             \n",
      " request_address      | 2315  EL PASO ST, San Antonio, 78207 \n",
      " council_district     | 5                                    \n",
      "only showing top 1 row\n",
      "\n"
     ]
    }
   ],
   "source": [
    "# did it work as expected?\n",
    "case.show(1, truncate = False, vertical = True)"
   ]
  },
  {
   "cell_type": "code",
   "execution_count": 21,
   "metadata": {},
   "outputs": [],
   "source": [
    "# trim and lowercase address info\n",
    "\n",
    "case = case.withColumn('request_address', trim(lower(case.request_address)))"
   ]
  },
  {
   "cell_type": "code",
   "execution_count": 22,
   "metadata": {},
   "outputs": [],
   "source": [
    "# use format_string function to pad zeros for council_district\n",
    "\n",
    "case = case.withColumn('council_district', format_string('%03d', col('council_district').cast('int')))"
   ]
  },
  {
   "cell_type": "code",
   "execution_count": 23,
   "metadata": {},
   "outputs": [],
   "source": [
    "# create a new column for zipcode:\n",
    "\n",
    "case = case.withColumn('zipcode', regexp_extract('request_address', r\"(\\d+$)\", 1))"
   ]
  },
  {
   "cell_type": "code",
   "execution_count": 24,
   "metadata": {},
   "outputs": [
    {
     "name": "stdout",
     "output_type": "stream",
     "text": [
      "-RECORD 0----------------------------------------------------\n",
      " case_id              | 1014127332                           \n",
      " case_opened_date     | 2018-01-01 00:42:00                  \n",
      " case_closed_date     | 2018-01-01 12:29:00                  \n",
      " case_due_date        | 2020-09-26 00:42:00                  \n",
      " case_late            | false                                \n",
      " num_days_late        | -998.5087616000001                   \n",
      " case_closed          | true                                 \n",
      " dept_division        | Field Operations                     \n",
      " service_request_type | Stray Animal                         \n",
      " case_days            | 999.0                                \n",
      " case_status          | Closed                               \n",
      " source_id            | svcCRMLS                             \n",
      " request_address      | 2315  el paso st, san antonio, 78207 \n",
      " council_district     | 005                                  \n",
      " zipcode              | 78207                                \n",
      "only showing top 1 row\n",
      "\n"
     ]
    }
   ],
   "source": [
    "case.show(1, False, True)"
   ]
  },
  {
   "cell_type": "markdown",
   "metadata": {},
   "source": [
    "#### Department"
   ]
  },
  {
   "cell_type": "code",
   "execution_count": 25,
   "metadata": {},
   "outputs": [
    {
     "name": "stdout",
     "output_type": "stream",
     "text": [
      "-RECORD 0----------------------------------\n",
      " dept_division          | 311 Call Center  \n",
      " dept_name              | Customer Service \n",
      " standardized_dept_name | Customer Service \n",
      " dept_subject_to_SLA    | YES              \n",
      "only showing top 1 row\n",
      "\n"
     ]
    }
   ],
   "source": [
    "dept.show(1, vertical=True)"
   ]
  },
  {
   "cell_type": "code",
   "execution_count": 26,
   "metadata": {},
   "outputs": [
    {
     "data": {
      "text/plain": [
       "[('dept_division', 'string'),\n",
       " ('dept_name', 'string'),\n",
       " ('standardized_dept_name', 'string'),\n",
       " ('dept_subject_to_SLA', 'string')]"
      ]
     },
     "execution_count": 26,
     "metadata": {},
     "output_type": "execute_result"
    }
   ],
   "source": [
    "dept.dtypes"
   ]
  },
  {
   "cell_type": "code",
   "execution_count": 27,
   "metadata": {},
   "outputs": [],
   "source": [
    "# convert 'dept_subject_to_SLA' to boolean\n",
    "dept = dept.withColumn('dept_subject_to_SLA', expr('dept_subject_to_SLA == \"YES\"'))"
   ]
  },
  {
   "cell_type": "code",
   "execution_count": 28,
   "metadata": {},
   "outputs": [
    {
     "name": "stdout",
     "output_type": "stream",
     "text": [
      "-RECORD 0----------------------------------\n",
      " dept_division          | 311 Call Center  \n",
      " dept_name              | Customer Service \n",
      " standardized_dept_name | Customer Service \n",
      " dept_subject_to_SLA    | true             \n",
      "only showing top 1 row\n",
      "\n"
     ]
    }
   ],
   "source": [
    "# good to go?\n",
    "dept.show(1, vertical=True)"
   ]
  },
  {
   "cell_type": "markdown",
   "metadata": {},
   "source": [
    "#### Source"
   ]
  },
  {
   "cell_type": "code",
   "execution_count": 29,
   "metadata": {},
   "outputs": [
    {
     "name": "stdout",
     "output_type": "stream",
     "text": [
      "-RECORD 0---------------------------\n",
      " source_id       | 100137           \n",
      " source_username | Merlene Blodgett \n",
      "only showing top 1 row\n",
      "\n"
     ]
    }
   ],
   "source": [
    "source.show(1, vertical=True)"
   ]
  },
  {
   "cell_type": "code",
   "execution_count": 30,
   "metadata": {},
   "outputs": [
    {
     "data": {
      "text/plain": [
       "[('source_id', 'string'), ('source_username', 'string')]"
      ]
     },
     "execution_count": 30,
     "metadata": {},
     "output_type": "execute_result"
    }
   ],
   "source": [
    "source.dtypes"
   ]
  },
  {
   "cell_type": "code",
   "execution_count": 31,
   "metadata": {},
   "outputs": [],
   "source": [
    "# good to go"
   ]
  },
  {
   "cell_type": "markdown",
   "metadata": {},
   "source": [
    "### Data Wrangling"
   ]
  },
  {
   "cell_type": "markdown",
   "metadata": {},
   "source": [
    "1. How old is the latest (in terms of days past SLA) currently open issue? How long has the oldest (in terms of days since opened) currently opened issue been open?"
   ]
  },
  {
   "cell_type": "code",
   "execution_count": 32,
   "metadata": {},
   "outputs": [],
   "source": [
    "# filter to only look at currently open cases\n",
    "# use a datediff, or sort by days_open with ascending=False"
   ]
  },
  {
   "cell_type": "code",
   "execution_count": 33,
   "metadata": {},
   "outputs": [],
   "source": [
    "#create three new columns 'case_age', 'days_to_closed', 'case_lifetime'\n",
    "\n",
    "case = (\n",
    "    case.withColumn(\n",
    "        \"case_age\", datediff(current_timestamp(), \"case_opened_date\")\n",
    "    )\n",
    "    .withColumn(\n",
    "        \"days_to_closed\", datediff(\"case_closed_date\", \"case_opened_date\")\n",
    "    )\n",
    "    .withColumn(\n",
    "        \"case_lifetime\",\n",
    "        when(expr(\"! case_closed\"), col(\"case_age\")).otherwise(\n",
    "            col(\"days_to_closed\")\n",
    "        ),\n",
    "    )\n",
    ")"
   ]
  },
  {
   "cell_type": "code",
   "execution_count": 34,
   "metadata": {},
   "outputs": [
    {
     "name": "stdout",
     "output_type": "stream",
     "text": [
      "-RECORD 0------------------------------------------------------\n",
      " case_id              | 1013225646                             \n",
      " case_opened_date     | 2017-01-01 13:48:00                    \n",
      " case_closed_date     | null                                   \n",
      " case_due_date        | 2017-01-17 08:30:00                    \n",
      " case_late            | true                                   \n",
      " num_days_late        | 348.6458333                            \n",
      " case_closed          | false                                  \n",
      " dept_division        | Code Enforcement                       \n",
      " service_request_type | No Address Posted                      \n",
      " case_days            | 15.77859954                            \n",
      " case_status          | Open                                   \n",
      " source_id            | svcCRMSS                               \n",
      " request_address      | 7299  shadow ridge, san antonio, 78250 \n",
      " council_district     | 006                                    \n",
      " zipcode              | 78250                                  \n",
      " case_age             | 1680                                   \n",
      " days_to_closed       | null                                   \n",
      " case_lifetime        | 1680                                   \n",
      "only showing top 1 row\n",
      "\n"
     ]
    }
   ],
   "source": [
    "# filtering where case is still open\n",
    "# sorting by age of case, in descending order\n",
    "# not truncating any values\n",
    "# showing vertically, the top 1 case\n",
    "case.filter(case.case_closed == 'false').sort(desc('case_age')).show(1, False, True)"
   ]
  },
  {
   "cell_type": "markdown",
   "metadata": {},
   "source": [
    "2. How many Stray Animal cases are there?"
   ]
  },
  {
   "cell_type": "code",
   "execution_count": 35,
   "metadata": {},
   "outputs": [
    {
     "name": "stdout",
     "output_type": "stream",
     "text": [
      "+--------------------+\n",
      "|service_request_type|\n",
      "+--------------------+\n",
      "|        Stray Animal|\n",
      "|Removal Of Obstru...|\n",
      "|Removal Of Obstru...|\n",
      "|Front Or Side Yar...|\n",
      "|Animal Cruelty(Cr...|\n",
      "+--------------------+\n",
      "only showing top 5 rows\n",
      "\n"
     ]
    }
   ],
   "source": [
    "case.select(case.service_request_type).show(5)"
   ]
  },
  {
   "cell_type": "code",
   "execution_count": 36,
   "metadata": {},
   "outputs": [
    {
     "data": {
      "text/plain": [
       "26760"
      ]
     },
     "execution_count": 36,
     "metadata": {},
     "output_type": "execute_result"
    }
   ],
   "source": [
    "case.filter(case.service_request_type == 'Stray Animal').count()"
   ]
  },
  {
   "cell_type": "markdown",
   "metadata": {},
   "source": [
    "3. How many service requests that are assigned to the Field Operations department (`dept_division`) are not classified as \"Officer Standby\" request type (`service_request_type`)?"
   ]
  },
  {
   "cell_type": "code",
   "execution_count": 37,
   "metadata": {},
   "outputs": [
    {
     "data": {
      "text/plain": [
       "113902"
      ]
     },
     "execution_count": 37,
     "metadata": {},
     "output_type": "execute_result"
    }
   ],
   "source": [
    "case.filter(case.dept_division == 'Field Operations').where(case['service_request_type'] != 'Officer Standby').count()"
   ]
  },
  {
   "cell_type": "markdown",
   "metadata": {},
   "source": [
    "4. Convert the `council_district` column to a string column."
   ]
  },
  {
   "cell_type": "code",
   "execution_count": 38,
   "metadata": {},
   "outputs": [
    {
     "data": {
      "text/plain": [
       "[('case_id', 'int'),\n",
       " ('case_opened_date', 'timestamp'),\n",
       " ('case_closed_date', 'timestamp'),\n",
       " ('case_due_date', 'timestamp'),\n",
       " ('case_late', 'boolean'),\n",
       " ('num_days_late', 'double'),\n",
       " ('case_closed', 'boolean'),\n",
       " ('dept_division', 'string'),\n",
       " ('service_request_type', 'string'),\n",
       " ('case_days', 'double'),\n",
       " ('case_status', 'string'),\n",
       " ('source_id', 'string'),\n",
       " ('request_address', 'string'),\n",
       " ('council_district', 'string'),\n",
       " ('zipcode', 'string'),\n",
       " ('case_age', 'int'),\n",
       " ('days_to_closed', 'int'),\n",
       " ('case_lifetime', 'int')]"
      ]
     },
     "execution_count": 38,
     "metadata": {},
     "output_type": "execute_result"
    }
   ],
   "source": [
    "# already done did it...\n",
    "case.dtypes"
   ]
  },
  {
   "cell_type": "markdown",
   "metadata": {},
   "source": [
    "5. Extract the year from the `case_closed_date` column."
   ]
  },
  {
   "cell_type": "code",
   "execution_count": 39,
   "metadata": {},
   "outputs": [
    {
     "name": "stdout",
     "output_type": "stream",
     "text": [
      "+----+\n",
      "|year|\n",
      "+----+\n",
      "|2018|\n",
      "|2018|\n",
      "|2018|\n",
      "|2018|\n",
      "|2018|\n",
      "+----+\n",
      "only showing top 5 rows\n",
      "\n"
     ]
    }
   ],
   "source": [
    "# create a new column for year:\n",
    "\n",
    "case = case.withColumn('year', regexp_extract('case_closed_date', r\"^(\\d{4})\", 1))\n",
    "\n",
    "case.select('year').show(5)"
   ]
  },
  {
   "cell_type": "markdown",
   "metadata": {},
   "source": [
    "6. Convert `num_days_late` from days to hours in new columns `num_hours_late`."
   ]
  },
  {
   "cell_type": "code",
   "execution_count": 40,
   "metadata": {},
   "outputs": [
    {
     "name": "stdout",
     "output_type": "stream",
     "text": [
      "+------------------------+\n",
      "|round(num_hours_late, 2)|\n",
      "+------------------------+\n",
      "|               -23964.21|\n",
      "|                   -48.3|\n",
      "|                  -72.54|\n",
      "|                 -360.28|\n",
      "|                    8.93|\n",
      "+------------------------+\n",
      "only showing top 5 rows\n",
      "\n"
     ]
    }
   ],
   "source": [
    "# create a new column for year:\n",
    "case = case.withColumn('num_hours_late', col('num_days_late')*24)\n",
    "\n",
    "case.select(round('num_hours_late', 2)).show(5)"
   ]
  },
  {
   "cell_type": "markdown",
   "metadata": {},
   "source": [
    "7. Join the case data with the source and department data."
   ]
  },
  {
   "cell_type": "code",
   "execution_count": 41,
   "metadata": {},
   "outputs": [],
   "source": [
    "# join the df and dept dataframe using 'dept_division' as common key\n",
    "# drop columns as needed (keep standardized_dept_name)\n",
    "# convert dept_subject_to_SLA to boolean\n",
    "\n",
    "df = (\n",
    "    case\n",
    "    # left join on dept_division\n",
    "    .join(dept, \"dept_division\", \"left\")\n",
    "    # drop all the columns except for standardized name, as it has much fewer unique values\n",
    "    .drop(dept.dept_division)\n",
    "    .drop(dept.dept_name)\n",
    "    .drop(case.dept_division)\n",
    "    .withColumnRenamed(\"standardized_dept_name\", \"department\")\n",
    "    # convert to a boolean\n",
    "    .withColumn(\"dept_subject_to_SLA\", col(\"dept_subject_to_SLA\") == \"YES\")\n",
    "    .join(source, 'source_id', 'left')\n",
    "    \n",
    ")"
   ]
  },
  {
   "cell_type": "code",
   "execution_count": 42,
   "metadata": {},
   "outputs": [
    {
     "name": "stdout",
     "output_type": "stream",
     "text": [
      "-RECORD 0----------------------------------------------------\n",
      " source_id            | svcCRMLS                             \n",
      " case_id              | 1014127332                           \n",
      " case_opened_date     | 2018-01-01 00:42:00                  \n",
      " case_closed_date     | 2018-01-01 12:29:00                  \n",
      " case_due_date        | 2020-09-26 00:42:00                  \n",
      " case_late            | false                                \n",
      " num_days_late        | -998.5087616000001                   \n",
      " case_closed          | true                                 \n",
      " service_request_type | Stray Animal                         \n",
      " case_days            | 999.0                                \n",
      " case_status          | Closed                               \n",
      " request_address      | 2315  el paso st, san antonio, 78207 \n",
      " council_district     | 005                                  \n",
      " zipcode              | 78207                                \n",
      " case_age             | 1315                                 \n",
      " days_to_closed       | 0                                    \n",
      " case_lifetime        | 0                                    \n",
      " year                 | 2018                                 \n",
      " num_hours_late       | -23964.2102784                       \n",
      " department           | Animal Care Services                 \n",
      " dept_subject_to_SLA  | true                                 \n",
      " source_username      | svcCRMLS                             \n",
      "only showing top 1 row\n",
      "\n"
     ]
    }
   ],
   "source": [
    "df.show(1, False, True)"
   ]
  },
  {
   "cell_type": "markdown",
   "metadata": {},
   "source": [
    "8. Are there any cases that do not have a request source?"
   ]
  },
  {
   "cell_type": "code",
   "execution_count": 43,
   "metadata": {},
   "outputs": [
    {
     "data": {
      "text/plain": [
       "0"
      ]
     },
     "execution_count": 43,
     "metadata": {},
     "output_type": "execute_result"
    }
   ],
   "source": [
    "df.filter(df.source_id.isNull()).count()"
   ]
  },
  {
   "cell_type": "markdown",
   "metadata": {},
   "source": [
    "9. What are the top 10 service request types in terms of number of requests?"
   ]
  },
  {
   "cell_type": "code",
   "execution_count": 44,
   "metadata": {},
   "outputs": [
    {
     "name": "stdout",
     "output_type": "stream",
     "text": [
      "+--------------------------------------+-----+\n",
      "|service_request_type                  |count|\n",
      "+--------------------------------------+-----+\n",
      "|Minimum Housing-Owner Occupied        |8617 |\n",
      "|Tree Removal                          |298  |\n",
      "|Service Information                   |164  |\n",
      "|Sign Maintenance                      |82   |\n",
      "|Park Building Maint Invest            |48   |\n",
      "|Brush Property Damage                 |186  |\n",
      "|Graffiti: Private Property (Corridors)|8525 |\n",
      "|Traffic Sign Graffiti                 |2150 |\n",
      "|License Renewal Invoice               |1394 |\n",
      "|Used/Scrap Tire Facility Registration |19   |\n",
      "+--------------------------------------+-----+\n",
      "only showing top 10 rows\n",
      "\n"
     ]
    }
   ],
   "source": [
    "df.groupBy('service_request_type').count().show(10, False)"
   ]
  },
  {
   "cell_type": "markdown",
   "metadata": {},
   "source": [
    "10. What are the top 10 service request types in terms of average days late?"
   ]
  },
  {
   "cell_type": "code",
   "execution_count": 45,
   "metadata": {},
   "outputs": [
    {
     "name": "stdout",
     "output_type": "stream",
     "text": [
      "+--------------------------------+-----+\n",
      "|service_request_type            |count|\n",
      "+--------------------------------+-----+\n",
      "|No Pickup                       |89210|\n",
      "|Overgrown Yard/Trash            |66403|\n",
      "|Bandit Signs                    |32968|\n",
      "|Damaged Cart                    |31163|\n",
      "|Front Or Side Yard Parking      |28920|\n",
      "|Stray Animal                    |27361|\n",
      "|Aggressive Animal(Non-Critical) |25492|\n",
      "|Cart Exchange Request           |22608|\n",
      "|Junk Vehicle On Private Property|21649|\n",
      "|Pot Hole Repair                 |20827|\n",
      "+--------------------------------+-----+\n",
      "only showing top 10 rows\n",
      "\n"
     ]
    }
   ],
   "source": [
    "(\n",
    "    df.groupby('service_request_type')\n",
    "    .count()\n",
    "    .sort(col('count').desc())\n",
    "    .show(10, truncate=False)\n",
    ")"
   ]
  },
  {
   "cell_type": "markdown",
   "metadata": {},
   "source": [
    "11. Does number of days late depend on department?\n"
   ]
  },
  {
   "cell_type": "code",
   "execution_count": 46,
   "metadata": {},
   "outputs": [
    {
     "name": "stdout",
     "output_type": "stream",
     "text": [
      "+--------------------------------------+------------------+-------+\n",
      "|service_request_type                  |n_days_late       |n_cases|\n",
      "+--------------------------------------+------------------+-------+\n",
      "|Zoning: Recycle Yard                  |210.89201994318182|132    |\n",
      "|Zoning: Junk Yards                    |200.20517608494276|262    |\n",
      "|Structure/Housing Maintenance         |190.20707698509807|51     |\n",
      "|Donation Container Enforcement        |171.09115313942615|122    |\n",
      "|Storage of Used Mattress              |163.96812829714287|7      |\n",
      "|Labeling for Used Mattress            |162.43032902285717|7      |\n",
      "|Record Keeping of Used Mattresses     |153.99724039428568|7      |\n",
      "|Signage Requied for Sale of Used Mattr|151.63868055333333|12     |\n",
      "|Traffic Signal Graffiti               |137.64583330000002|4      |\n",
      "|License Requied Used Mattress Sales   |128.79828704142858|7      |\n",
      "+--------------------------------------+------------------+-------+\n",
      "only showing top 10 rows\n",
      "\n"
     ]
    }
   ],
   "source": [
    "(\n",
    "    df.where('case_late')\n",
    "    .groupBy('service_request_type')\n",
    "    .agg(mean('num_days_late').alias('n_days_late'), count('*').alias('n_cases'))\n",
    "    .sort(desc('n_days_late'))\n",
    "    .show(10, truncate=False)\n",
    ")"
   ]
  },
  {
   "cell_type": "markdown",
   "metadata": {},
   "source": [
    "12. How do number of days late depend on department and request type?"
   ]
  },
  {
   "cell_type": "code",
   "execution_count": 48,
   "metadata": {},
   "outputs": [
    {
     "ename": "AnalysisException",
     "evalue": "cannot resolve '`dept_name`' given input columns: [case_age, case_closed, case_closed_date, case_days, case_due_date, case_id, case_late, case_lifetime, case_opened_date, case_status, council_district, days_to_closed, department, dept_subject_to_SLA, num_days_late, num_hours_late, request_address, service_request_type, source_id, source_username, year, zipcode];\n'Aggregate ['dept_name], ['dept_name, avg(num_days_late#21) AS days_late#1517, count(num_days_late#21) AS n_cases_late#1519L]\n+- Filter case_late#386: boolean\n   +- Project [source_id#27, case_id#16, case_opened_date#487, case_closed_date#502, case_due_date#517, case_late#386, num_days_late#21, case_closed#371, service_request_type#24, case_days#285, case_status#26, request_address#603, council_district#618, zipcode#633, case_age#782, days_to_closed#799, case_lifetime#817, year#979, num_hours_late#1006, department#1124, dept_subject_to_SLA#1146, source_username#177]\n      +- Join LeftOuter, (source_id#27 = source_id#176)\n         :- Project [case_id#16, case_opened_date#487, case_closed_date#502, case_due_date#517, case_late#386, num_days_late#21, case_closed#371, service_request_type#24, case_days#285, case_status#26, source_id#27, request_address#603, council_district#618, zipcode#633, case_age#782, days_to_closed#799, case_lifetime#817, year#979, num_hours_late#1006, department#1124, (dept_subject_to_SLA#745 = cast(YES as boolean)) AS dept_subject_to_SLA#1146]\n         :  +- Project [case_id#16, case_opened_date#487, case_closed_date#502, case_due_date#517, case_late#386, num_days_late#21, case_closed#371, service_request_type#24, case_days#285, case_status#26, source_id#27, request_address#603, council_district#618, zipcode#633, case_age#782, days_to_closed#799, case_lifetime#817, year#979, num_hours_late#1006, standardized_dept_name#133 AS department#1124, dept_subject_to_SLA#745]\n         :     +- Project [case_id#16, case_opened_date#487, case_closed_date#502, case_due_date#517, case_late#386, num_days_late#21, case_closed#371, service_request_type#24, case_days#285, case_status#26, source_id#27, request_address#603, council_district#618, zipcode#633, case_age#782, days_to_closed#799, case_lifetime#817, year#979, num_hours_late#1006, standardized_dept_name#133, dept_subject_to_SLA#745]\n         :        +- Project [dept_division#23, case_id#16, case_opened_date#487, case_closed_date#502, case_due_date#517, case_late#386, num_days_late#21, case_closed#371, service_request_type#24, case_days#285, case_status#26, source_id#27, request_address#603, council_district#618, zipcode#633, case_age#782, days_to_closed#799, case_lifetime#817, year#979, num_hours_late#1006, standardized_dept_name#133, dept_subject_to_SLA#745]\n         :           +- Project [dept_division#23, case_id#16, case_opened_date#487, case_closed_date#502, case_due_date#517, case_late#386, num_days_late#21, case_closed#371, service_request_type#24, case_days#285, case_status#26, source_id#27, request_address#603, council_district#618, zipcode#633, case_age#782, days_to_closed#799, case_lifetime#817, year#979, num_hours_late#1006, dept_name#132, standardized_dept_name#133, dept_subject_to_SLA#745]\n         :              +- Project [dept_division#23, case_id#16, case_opened_date#487, case_closed_date#502, case_due_date#517, case_late#386, num_days_late#21, case_closed#371, service_request_type#24, case_days#285, case_status#26, source_id#27, request_address#603, council_district#618, zipcode#633, case_age#782, days_to_closed#799, case_lifetime#817, year#979, num_hours_late#1006, dept_name#132, standardized_dept_name#133, dept_subject_to_SLA#745]\n         :                 +- Join LeftOuter, (dept_division#23 = dept_division#131)\n         :                    :- Project [case_id#16, case_opened_date#487, case_closed_date#502, case_due_date#517, case_late#386, num_days_late#21, case_closed#371, dept_division#23, service_request_type#24, case_days#285, case_status#26, source_id#27, request_address#603, council_district#618, zipcode#633, case_age#782, days_to_closed#799, case_lifetime#817, year#979, (num_days_late#21 * cast(24 as double)) AS num_hours_late#1006]\n         :                    :  +- Project [case_id#16, case_opened_date#487, case_closed_date#502, case_due_date#517, case_late#386, num_days_late#21, case_closed#371, dept_division#23, service_request_type#24, case_days#285, case_status#26, source_id#27, request_address#603, council_district#618, zipcode#633, case_age#782, days_to_closed#799, case_lifetime#817, regexp_extract(cast(case_closed_date#502 as string), ^(\\d{4}), 1) AS year#979]\n         :                    :     +- Project [case_id#16, case_opened_date#487, case_closed_date#502, case_due_date#517, case_late#386, num_days_late#21, case_closed#371, dept_division#23, service_request_type#24, case_days#285, case_status#26, source_id#27, request_address#603, council_district#618, zipcode#633, case_age#782, days_to_closed#799, CASE WHEN NOT case_closed#371 THEN case_age#782 ELSE days_to_closed#799 END AS case_lifetime#817]\n         :                    :        +- Project [case_id#16, case_opened_date#487, case_closed_date#502, case_due_date#517, case_late#386, num_days_late#21, case_closed#371, dept_division#23, service_request_type#24, case_days#285, case_status#26, source_id#27, request_address#603, council_district#618, zipcode#633, case_age#782, datediff(cast(case_closed_date#502 as date), cast(case_opened_date#487 as date)) AS days_to_closed#799]\n         :                    :           +- Project [case_id#16, case_opened_date#487, case_closed_date#502, case_due_date#517, case_late#386, num_days_late#21, case_closed#371, dept_division#23, service_request_type#24, case_days#285, case_status#26, source_id#27, request_address#603, council_district#618, zipcode#633, datediff(cast(current_timestamp() as date), cast(case_opened_date#487 as date)) AS case_age#782]\n         :                    :              +- Project [case_id#16, case_opened_date#487, case_closed_date#502, case_due_date#517, case_late#386, num_days_late#21, case_closed#371, dept_division#23, service_request_type#24, case_days#285, case_status#26, source_id#27, request_address#603, council_district#618, regexp_extract(request_address#603, (\\d+$), 1) AS zipcode#633]\n         :                    :                 +- Project [case_id#16, case_opened_date#487, case_closed_date#502, case_due_date#517, case_late#386, num_days_late#21, case_closed#371, dept_division#23, service_request_type#24, case_days#285, case_status#26, source_id#27, request_address#603, format_string(%03d, cast(council_district#472 as int)) AS council_district#618]\n         :                    :                    +- Project [case_id#16, case_opened_date#487, case_closed_date#502, case_due_date#517, case_late#386, num_days_late#21, case_closed#371, dept_division#23, service_request_type#24, case_days#285, case_status#26, source_id#27, trim(lower(request_address#28), None) AS request_address#603, council_district#472]\n         :                    :                       +- Project [case_id#16, case_opened_date#487, case_closed_date#502, to_timestamp('case_due_date, Some(M/d/yy H:mm)) AS case_due_date#517, case_late#386, num_days_late#21, case_closed#371, dept_division#23, service_request_type#24, case_days#285, case_status#26, source_id#27, request_address#28, council_district#472]\n         :                    :                          +- Project [case_id#16, case_opened_date#487, to_timestamp('case_closed_date, Some(M/d/yy H:mm)) AS case_closed_date#502, case_due_date#270, case_late#386, num_days_late#21, case_closed#371, dept_division#23, service_request_type#24, case_days#285, case_status#26, source_id#27, request_address#28, council_district#472]\n         :                    :                             +- Project [case_id#16, to_timestamp('case_opened_date, Some(M/d/yy H:mm)) AS case_opened_date#487, case_closed_date#18, case_due_date#270, case_late#386, num_days_late#21, case_closed#371, dept_division#23, service_request_type#24, case_days#285, case_status#26, source_id#27, request_address#28, council_district#472]\n         :                    :                                +- Project [case_id#16, case_opened_date#17, case_closed_date#18, case_due_date#270, case_late#386, num_days_late#21, case_closed#371, dept_division#23, service_request_type#24, case_days#285, case_status#26, source_id#27, request_address#28, cast(council_district#29 as string) AS council_district#472]\n         :                    :                                   +- Project [case_id#16, case_opened_date#17, case_closed_date#18, case_due_date#270, (case_late#20 = YES) AS case_late#386, num_days_late#21, case_closed#371, dept_division#23, service_request_type#24, case_days#285, case_status#26, source_id#27, request_address#28, council_district#29]\n         :                    :                                      +- Project [case_id#16, case_opened_date#17, case_closed_date#18, case_due_date#270, case_late#20, num_days_late#21, (case_closed#22 = YES) AS case_closed#371, dept_division#23, service_request_type#24, case_days#285, case_status#26, source_id#27, request_address#28, council_district#29]\n         :                    :                                         +- Project [case_id#16, case_opened_date#17, case_closed_date#18, case_due_date#270, case_late#20, num_days_late#21, case_closed#22, dept_division#23, service_request_type#24, SLA_days#25 AS case_days#285, case_status#26, source_id#27, request_address#28, council_district#29]\n         :                    :                                            +- Project [case_id#16, case_opened_date#17, case_closed_date#18, SLA_due_date#19 AS case_due_date#270, case_late#20, num_days_late#21, case_closed#22, dept_division#23, service_request_type#24, SLA_days#25, case_status#26, source_id#27, request_address#28, council_district#29]\n         :                    :                                               +- Relation[case_id#16,case_opened_date#17,case_closed_date#18,SLA_due_date#19,case_late#20,num_days_late#21,case_closed#22,dept_division#23,service_request_type#24,SLA_days#25,case_status#26,source_id#27,request_address#28,council_district#29] csv\n         :                    +- Project [dept_division#131, dept_name#132, standardized_dept_name#133, (dept_subject_to_SLA#134 = YES) AS dept_subject_to_SLA#745]\n         :                       +- Relation[dept_division#131,dept_name#132,standardized_dept_name#133,dept_subject_to_SLA#134] csv\n         +- Relation[source_id#176,source_username#177] csv\n",
     "output_type": "error",
     "traceback": [
      "\u001b[0;31m---------------------------------------------------------------------------\u001b[0m",
      "\u001b[0;31mAnalysisException\u001b[0m                         Traceback (most recent call last)",
      "\u001b[0;32m<ipython-input-48-cb0d59b16e7e>\u001b[0m in \u001b[0;36m<module>\u001b[0;34m\u001b[0m\n\u001b[1;32m      1\u001b[0m (\n\u001b[0;32m----> 2\u001b[0;31m     \u001b[0mdf\u001b[0m\u001b[0;34m.\u001b[0m\u001b[0mfilter\u001b[0m\u001b[0;34m(\u001b[0m\u001b[0;34m'case_late'\u001b[0m\u001b[0;34m)\u001b[0m\u001b[0;34m\u001b[0m\u001b[0;34m\u001b[0m\u001b[0m\n\u001b[0m\u001b[1;32m      3\u001b[0m     \u001b[0;34m.\u001b[0m\u001b[0mgroupby\u001b[0m\u001b[0;34m(\u001b[0m\u001b[0;34m'dept_name'\u001b[0m\u001b[0;34m)\u001b[0m\u001b[0;34m\u001b[0m\u001b[0;34m\u001b[0m\u001b[0m\n\u001b[1;32m      4\u001b[0m     \u001b[0;34m.\u001b[0m\u001b[0magg\u001b[0m\u001b[0;34m(\u001b[0m\u001b[0mmean\u001b[0m\u001b[0;34m(\u001b[0m\u001b[0;34m'num_days_late'\u001b[0m\u001b[0;34m)\u001b[0m\u001b[0;34m.\u001b[0m\u001b[0malias\u001b[0m\u001b[0;34m(\u001b[0m\u001b[0;34m'days_late'\u001b[0m\u001b[0;34m)\u001b[0m\u001b[0;34m,\u001b[0m \u001b[0mcount\u001b[0m\u001b[0;34m(\u001b[0m\u001b[0;34m'num_days_late'\u001b[0m\u001b[0;34m)\u001b[0m\u001b[0;34m.\u001b[0m\u001b[0malias\u001b[0m\u001b[0;34m(\u001b[0m\u001b[0;34m'n_cases_late'\u001b[0m\u001b[0;34m)\u001b[0m\u001b[0;34m)\u001b[0m\u001b[0;34m\u001b[0m\u001b[0;34m\u001b[0m\u001b[0m\n\u001b[1;32m      5\u001b[0m     \u001b[0;34m.\u001b[0m\u001b[0msort\u001b[0m\u001b[0;34m(\u001b[0m\u001b[0;34m'days_late'\u001b[0m\u001b[0;34m)\u001b[0m\u001b[0;34m\u001b[0m\u001b[0;34m\u001b[0m\u001b[0m\n",
      "\u001b[0;32m/opt/homebrew/anaconda3/lib/python3.8/site-packages/pyspark/sql/group.py\u001b[0m in \u001b[0;36magg\u001b[0;34m(self, *exprs)\u001b[0m\n\u001b[1;32m    116\u001b[0m             \u001b[0;31m# Columns\u001b[0m\u001b[0;34m\u001b[0m\u001b[0;34m\u001b[0m\u001b[0;34m\u001b[0m\u001b[0m\n\u001b[1;32m    117\u001b[0m             \u001b[0;32massert\u001b[0m \u001b[0mall\u001b[0m\u001b[0;34m(\u001b[0m\u001b[0misinstance\u001b[0m\u001b[0;34m(\u001b[0m\u001b[0mc\u001b[0m\u001b[0;34m,\u001b[0m \u001b[0mColumn\u001b[0m\u001b[0;34m)\u001b[0m \u001b[0;32mfor\u001b[0m \u001b[0mc\u001b[0m \u001b[0;32min\u001b[0m \u001b[0mexprs\u001b[0m\u001b[0;34m)\u001b[0m\u001b[0;34m,\u001b[0m \u001b[0;34m\"all exprs should be Column\"\u001b[0m\u001b[0;34m\u001b[0m\u001b[0;34m\u001b[0m\u001b[0m\n\u001b[0;32m--> 118\u001b[0;31m             jdf = self._jgd.agg(exprs[0]._jc,\n\u001b[0m\u001b[1;32m    119\u001b[0m                                 _to_seq(self.sql_ctx._sc, [c._jc for c in exprs[1:]]))\n\u001b[1;32m    120\u001b[0m         \u001b[0;32mreturn\u001b[0m \u001b[0mDataFrame\u001b[0m\u001b[0;34m(\u001b[0m\u001b[0mjdf\u001b[0m\u001b[0;34m,\u001b[0m \u001b[0mself\u001b[0m\u001b[0;34m.\u001b[0m\u001b[0msql_ctx\u001b[0m\u001b[0;34m)\u001b[0m\u001b[0;34m\u001b[0m\u001b[0;34m\u001b[0m\u001b[0m\n",
      "\u001b[0;32m/opt/homebrew/anaconda3/lib/python3.8/site-packages/py4j/java_gateway.py\u001b[0m in \u001b[0;36m__call__\u001b[0;34m(self, *args)\u001b[0m\n\u001b[1;32m   1302\u001b[0m \u001b[0;34m\u001b[0m\u001b[0m\n\u001b[1;32m   1303\u001b[0m         \u001b[0manswer\u001b[0m \u001b[0;34m=\u001b[0m \u001b[0mself\u001b[0m\u001b[0;34m.\u001b[0m\u001b[0mgateway_client\u001b[0m\u001b[0;34m.\u001b[0m\u001b[0msend_command\u001b[0m\u001b[0;34m(\u001b[0m\u001b[0mcommand\u001b[0m\u001b[0;34m)\u001b[0m\u001b[0;34m\u001b[0m\u001b[0;34m\u001b[0m\u001b[0m\n\u001b[0;32m-> 1304\u001b[0;31m         return_value = get_return_value(\n\u001b[0m\u001b[1;32m   1305\u001b[0m             answer, self.gateway_client, self.target_id, self.name)\n\u001b[1;32m   1306\u001b[0m \u001b[0;34m\u001b[0m\u001b[0m\n",
      "\u001b[0;32m/opt/homebrew/anaconda3/lib/python3.8/site-packages/pyspark/sql/utils.py\u001b[0m in \u001b[0;36mdeco\u001b[0;34m(*a, **kw)\u001b[0m\n\u001b[1;32m    115\u001b[0m                 \u001b[0;31m# Hide where the exception came from that shows a non-Pythonic\u001b[0m\u001b[0;34m\u001b[0m\u001b[0;34m\u001b[0m\u001b[0;34m\u001b[0m\u001b[0m\n\u001b[1;32m    116\u001b[0m                 \u001b[0;31m# JVM exception message.\u001b[0m\u001b[0;34m\u001b[0m\u001b[0;34m\u001b[0m\u001b[0;34m\u001b[0m\u001b[0m\n\u001b[0;32m--> 117\u001b[0;31m                 \u001b[0;32mraise\u001b[0m \u001b[0mconverted\u001b[0m \u001b[0;32mfrom\u001b[0m \u001b[0;32mNone\u001b[0m\u001b[0;34m\u001b[0m\u001b[0;34m\u001b[0m\u001b[0m\n\u001b[0m\u001b[1;32m    118\u001b[0m             \u001b[0;32melse\u001b[0m\u001b[0;34m:\u001b[0m\u001b[0;34m\u001b[0m\u001b[0;34m\u001b[0m\u001b[0m\n\u001b[1;32m    119\u001b[0m                 \u001b[0;32mraise\u001b[0m\u001b[0;34m\u001b[0m\u001b[0;34m\u001b[0m\u001b[0m\n",
      "\u001b[0;31mAnalysisException\u001b[0m: cannot resolve '`dept_name`' given input columns: [case_age, case_closed, case_closed_date, case_days, case_due_date, case_id, case_late, case_lifetime, case_opened_date, case_status, council_district, days_to_closed, department, dept_subject_to_SLA, num_days_late, num_hours_late, request_address, service_request_type, source_id, source_username, year, zipcode];\n'Aggregate ['dept_name], ['dept_name, avg(num_days_late#21) AS days_late#1517, count(num_days_late#21) AS n_cases_late#1519L]\n+- Filter case_late#386: boolean\n   +- Project [source_id#27, case_id#16, case_opened_date#487, case_closed_date#502, case_due_date#517, case_late#386, num_days_late#21, case_closed#371, service_request_type#24, case_days#285, case_status#26, request_address#603, council_district#618, zipcode#633, case_age#782, days_to_closed#799, case_lifetime#817, year#979, num_hours_late#1006, department#1124, dept_subject_to_SLA#1146, source_username#177]\n      +- Join LeftOuter, (source_id#27 = source_id#176)\n         :- Project [case_id#16, case_opened_date#487, case_closed_date#502, case_due_date#517, case_late#386, num_days_late#21, case_closed#371, service_request_type#24, case_days#285, case_status#26, source_id#27, request_address#603, council_district#618, zipcode#633, case_age#782, days_to_closed#799, case_lifetime#817, year#979, num_hours_late#1006, department#1124, (dept_subject_to_SLA#745 = cast(YES as boolean)) AS dept_subject_to_SLA#1146]\n         :  +- Project [case_id#16, case_opened_date#487, case_closed_date#502, case_due_date#517, case_late#386, num_days_late#21, case_closed#371, service_request_type#24, case_days#285, case_status#26, source_id#27, request_address#603, council_district#618, zipcode#633, case_age#782, days_to_closed#799, case_lifetime#817, year#979, num_hours_late#1006, standardized_dept_name#133 AS department#1124, dept_subject_to_SLA#745]\n         :     +- Project [case_id#16, case_opened_date#487, case_closed_date#502, case_due_date#517, case_late#386, num_days_late#21, case_closed#371, service_request_type#24, case_days#285, case_status#26, source_id#27, request_address#603, council_district#618, zipcode#633, case_age#782, days_to_closed#799, case_lifetime#817, year#979, num_hours_late#1006, standardized_dept_name#133, dept_subject_to_SLA#745]\n         :        +- Project [dept_division#23, case_id#16, case_opened_date#487, case_closed_date#502, case_due_date#517, case_late#386, num_days_late#21, case_closed#371, service_request_type#24, case_days#285, case_status#26, source_id#27, request_address#603, council_district#618, zipcode#633, case_age#782, days_to_closed#799, case_lifetime#817, year#979, num_hours_late#1006, standardized_dept_name#133, dept_subject_to_SLA#745]\n         :           +- Project [dept_division#23, case_id#16, case_opened_date#487, case_closed_date#502, case_due_date#517, case_late#386, num_days_late#21, case_closed#371, service_request_type#24, case_days#285, case_status#26, source_id#27, request_address#603, council_district#618, zipcode#633, case_age#782, days_to_closed#799, case_lifetime#817, year#979, num_hours_late#1006, dept_name#132, standardized_dept_name#133, dept_subject_to_SLA#745]\n         :              +- Project [dept_division#23, case_id#16, case_opened_date#487, case_closed_date#502, case_due_date#517, case_late#386, num_days_late#21, case_closed#371, service_request_type#24, case_days#285, case_status#26, source_id#27, request_address#603, council_district#618, zipcode#633, case_age#782, days_to_closed#799, case_lifetime#817, year#979, num_hours_late#1006, dept_name#132, standardized_dept_name#133, dept_subject_to_SLA#745]\n         :                 +- Join LeftOuter, (dept_division#23 = dept_division#131)\n         :                    :- Project [case_id#16, case_opened_date#487, case_closed_date#502, case_due_date#517, case_late#386, num_days_late#21, case_closed#371, dept_division#23, service_request_type#24, case_days#285, case_status#26, source_id#27, request_address#603, council_district#618, zipcode#633, case_age#782, days_to_closed#799, case_lifetime#817, year#979, (num_days_late#21 * cast(24 as double)) AS num_hours_late#1006]\n         :                    :  +- Project [case_id#16, case_opened_date#487, case_closed_date#502, case_due_date#517, case_late#386, num_days_late#21, case_closed#371, dept_division#23, service_request_type#24, case_days#285, case_status#26, source_id#27, request_address#603, council_district#618, zipcode#633, case_age#782, days_to_closed#799, case_lifetime#817, regexp_extract(cast(case_closed_date#502 as string), ^(\\d{4}), 1) AS year#979]\n         :                    :     +- Project [case_id#16, case_opened_date#487, case_closed_date#502, case_due_date#517, case_late#386, num_days_late#21, case_closed#371, dept_division#23, service_request_type#24, case_days#285, case_status#26, source_id#27, request_address#603, council_district#618, zipcode#633, case_age#782, days_to_closed#799, CASE WHEN NOT case_closed#371 THEN case_age#782 ELSE days_to_closed#799 END AS case_lifetime#817]\n         :                    :        +- Project [case_id#16, case_opened_date#487, case_closed_date#502, case_due_date#517, case_late#386, num_days_late#21, case_closed#371, dept_division#23, service_request_type#24, case_days#285, case_status#26, source_id#27, request_address#603, council_district#618, zipcode#633, case_age#782, datediff(cast(case_closed_date#502 as date), cast(case_opened_date#487 as date)) AS days_to_closed#799]\n         :                    :           +- Project [case_id#16, case_opened_date#487, case_closed_date#502, case_due_date#517, case_late#386, num_days_late#21, case_closed#371, dept_division#23, service_request_type#24, case_days#285, case_status#26, source_id#27, request_address#603, council_district#618, zipcode#633, datediff(cast(current_timestamp() as date), cast(case_opened_date#487 as date)) AS case_age#782]\n         :                    :              +- Project [case_id#16, case_opened_date#487, case_closed_date#502, case_due_date#517, case_late#386, num_days_late#21, case_closed#371, dept_division#23, service_request_type#24, case_days#285, case_status#26, source_id#27, request_address#603, council_district#618, regexp_extract(request_address#603, (\\d+$), 1) AS zipcode#633]\n         :                    :                 +- Project [case_id#16, case_opened_date#487, case_closed_date#502, case_due_date#517, case_late#386, num_days_late#21, case_closed#371, dept_division#23, service_request_type#24, case_days#285, case_status#26, source_id#27, request_address#603, format_string(%03d, cast(council_district#472 as int)) AS council_district#618]\n         :                    :                    +- Project [case_id#16, case_opened_date#487, case_closed_date#502, case_due_date#517, case_late#386, num_days_late#21, case_closed#371, dept_division#23, service_request_type#24, case_days#285, case_status#26, source_id#27, trim(lower(request_address#28), None) AS request_address#603, council_district#472]\n         :                    :                       +- Project [case_id#16, case_opened_date#487, case_closed_date#502, to_timestamp('case_due_date, Some(M/d/yy H:mm)) AS case_due_date#517, case_late#386, num_days_late#21, case_closed#371, dept_division#23, service_request_type#24, case_days#285, case_status#26, source_id#27, request_address#28, council_district#472]\n         :                    :                          +- Project [case_id#16, case_opened_date#487, to_timestamp('case_closed_date, Some(M/d/yy H:mm)) AS case_closed_date#502, case_due_date#270, case_late#386, num_days_late#21, case_closed#371, dept_division#23, service_request_type#24, case_days#285, case_status#26, source_id#27, request_address#28, council_district#472]\n         :                    :                             +- Project [case_id#16, to_timestamp('case_opened_date, Some(M/d/yy H:mm)) AS case_opened_date#487, case_closed_date#18, case_due_date#270, case_late#386, num_days_late#21, case_closed#371, dept_division#23, service_request_type#24, case_days#285, case_status#26, source_id#27, request_address#28, council_district#472]\n         :                    :                                +- Project [case_id#16, case_opened_date#17, case_closed_date#18, case_due_date#270, case_late#386, num_days_late#21, case_closed#371, dept_division#23, service_request_type#24, case_days#285, case_status#26, source_id#27, request_address#28, cast(council_district#29 as string) AS council_district#472]\n         :                    :                                   +- Project [case_id#16, case_opened_date#17, case_closed_date#18, case_due_date#270, (case_late#20 = YES) AS case_late#386, num_days_late#21, case_closed#371, dept_division#23, service_request_type#24, case_days#285, case_status#26, source_id#27, request_address#28, council_district#29]\n         :                    :                                      +- Project [case_id#16, case_opened_date#17, case_closed_date#18, case_due_date#270, case_late#20, num_days_late#21, (case_closed#22 = YES) AS case_closed#371, dept_division#23, service_request_type#24, case_days#285, case_status#26, source_id#27, request_address#28, council_district#29]\n         :                    :                                         +- Project [case_id#16, case_opened_date#17, case_closed_date#18, case_due_date#270, case_late#20, num_days_late#21, case_closed#22, dept_division#23, service_request_type#24, SLA_days#25 AS case_days#285, case_status#26, source_id#27, request_address#28, council_district#29]\n         :                    :                                            +- Project [case_id#16, case_opened_date#17, case_closed_date#18, SLA_due_date#19 AS case_due_date#270, case_late#20, num_days_late#21, case_closed#22, dept_division#23, service_request_type#24, SLA_days#25, case_status#26, source_id#27, request_address#28, council_district#29]\n         :                    :                                               +- Relation[case_id#16,case_opened_date#17,case_closed_date#18,SLA_due_date#19,case_late#20,num_days_late#21,case_closed#22,dept_division#23,service_request_type#24,SLA_days#25,case_status#26,source_id#27,request_address#28,council_district#29] csv\n         :                    +- Project [dept_division#131, dept_name#132, standardized_dept_name#133, (dept_subject_to_SLA#134 = YES) AS dept_subject_to_SLA#745]\n         :                       +- Relation[dept_division#131,dept_name#132,standardized_dept_name#133,dept_subject_to_SLA#134] csv\n         +- Relation[source_id#176,source_username#177] csv\n"
     ]
    }
   ],
   "source": [
    "(\n",
    "    df.filter('case_late')\n",
    "    .groupby('dept_name')\n",
    "    .agg(mean('num_days_late').alias('days_late'), count('num_days_late').alias('n_cases_late'))\n",
    "    .sort('days_late')\n",
    "    .withColumn('days_late', round(col('days_late'), 1))\n",
    "    .show(truncate=False)\n",
    "\n",
    ")"
   ]
  },
  {
   "cell_type": "code",
   "execution_count": null,
   "metadata": {},
   "outputs": [],
   "source": []
  }
 ],
 "metadata": {
  "kernelspec": {
   "display_name": "Python 3.8.5 64-bit ('base': conda)",
   "language": "python",
   "name": "python385jvsc74a57bd0b64057e63add2b45b1ffc7eab9b09c8889b419c878e2fdf0d08f837f0fc857a7"
  },
  "language_info": {
   "codemirror_mode": {
    "name": "ipython",
    "version": 3
   },
   "file_extension": ".py",
   "mimetype": "text/x-python",
   "name": "python",
   "nbconvert_exporter": "python",
   "pygments_lexer": "ipython3",
   "version": "3.8.5"
  }
 },
 "nbformat": 4,
 "nbformat_minor": 4
}
