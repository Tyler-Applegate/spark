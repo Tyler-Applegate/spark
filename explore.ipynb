{
 "cells": [
  {
   "cell_type": "markdown",
   "metadata": {},
   "source": [
    "## Spark Explore Exercises"
   ]
  },
  {
   "cell_type": "code",
   "execution_count": 3,
   "metadata": {},
   "outputs": [],
   "source": [
    "import warnings\n",
    "\n",
    "warnings.filterwarnings(\"ignore\")\n",
    "\n",
    "import pyspark.sql\n",
    "from pyspark.sql.functions import *\n",
    "\n",
    "import numpy as np\n",
    "import pandas as pd\n",
    "\n",
    "%matplotlib inline\n",
    "import matplotlib.pyplot as plt\n",
    "import seaborn as sns\n",
    "\n",
    "spark = pyspark.sql.SparkSession.builder.getOrCreate()\n"
   ]
  },
  {
   "cell_type": "code",
   "execution_count": 4,
   "metadata": {},
   "outputs": [],
   "source": [
    "# Bring the data in...\n",
    "# read in CSV for cases\n",
    "cases_df = spark.read.csv('case.csv',\n",
    "                          header=True,\n",
    "                          inferSchema=True)\n",
    "\n",
    "# read in CSV for departments\n",
    "depts_df = spark.read.csv('dept.csv',\n",
    "                          header=True,\n",
    "                          inferSchema=True)\n",
    "\n",
    "# read in CSV for sources\n",
    "srces_df = spark.read.csv('source.csv',\n",
    "                          header=True,\n",
    "                          inferSchema=True)\n",
    "\n",
    "# join DataFrames into one\n",
    "df = cases_df.join(depts_df, 'dept_division', 'left')\\\n",
    "             .join(srces_df, 'source_id', 'left')\n",
    "\n",
    "# rename column for improved clarity\n",
    "df = df.withColumnRenamed('SLA_due_date', 'case_due_date')\n",
    "\n",
    "# convert to appropriate data types\n",
    "df = df.withColumn('case_late', col('case_late') == 'YES')\\\n",
    "       .withColumn('case_closed', col('case_closed') == 'YES')\n",
    "# set datetime format\n",
    "date_fmt = 'M/d/yy H:mm'\n",
    "df = df.withColumn('case_opened_date',\n",
    "                   to_timestamp(col('case_opened_date'),\n",
    "                   date_fmt))\\\n",
    "       .withColumn('case_closed_date',\n",
    "                   to_timestamp(col('case_closed_date'),\n",
    "                   date_fmt))\\\n",
    "       .withColumn('case_due_date',\n",
    "                   to_timestamp(col('case_due_date'),\n",
    "                   date_fmt))\n",
    "\n",
    "# create column for case_lifetime\n",
    "df = df.withColumn('case_age',\n",
    "                   datediff(current_timestamp(),'case_opened_date'))\\\n",
    "       .withColumn('days_to_closed',\n",
    "                   datediff('case_closed_date', 'case_opened_date'))\\\n",
    "       .withColumn('case_lifetime',\n",
    "                   when(col('case_closed'),\n",
    "                        col('days_to_closed')).otherwise(col('case_age')))\\\n",
    "       .drop('case_age', 'days_to_closed')"
   ]
  },
  {
   "cell_type": "code",
   "execution_count": 5,
   "metadata": {},
   "outputs": [
    {
     "name": "stdout",
     "output_type": "stream",
     "text": [
      "-RECORD 0-------------------------------------------------------\n",
      " source_id              | svcCRMLS                              \n",
      " dept_division          | Field Operations                      \n",
      " case_id                | 1014127332                            \n",
      " case_opened_date       | 2018-01-01 00:42:00                   \n",
      " case_closed_date       | 2018-01-01 12:29:00                   \n",
      " case_due_date          | 2020-09-26 00:42:00                   \n",
      " case_late              | false                                 \n",
      " num_days_late          | -998.5087616000001                    \n",
      " case_closed            | true                                  \n",
      " service_request_type   | Stray Animal                          \n",
      " SLA_days               | 999.0                                 \n",
      " case_status            | Closed                                \n",
      " request_address        | 2315  EL PASO ST, San Antonio, 78207  \n",
      " council_district       | 5                                     \n",
      " dept_name              | Animal Care Services                  \n",
      " standardized_dept_name | Animal Care Services                  \n",
      " dept_subject_to_SLA    | YES                                   \n",
      " source_username        | svcCRMLS                              \n",
      " case_lifetime          | 0                                     \n",
      "-RECORD 1-------------------------------------------------------\n",
      " source_id              | svcCRMSS                              \n",
      " dept_division          | Storm Water                           \n",
      " case_id                | 1014127333                            \n",
      " case_opened_date       | 2018-01-01 00:46:00                   \n",
      " case_closed_date       | 2018-01-03 08:11:00                   \n",
      " case_due_date          | 2018-01-05 08:30:00                   \n",
      " case_late              | false                                 \n",
      " num_days_late          | -2.0126041669999997                   \n",
      " case_closed            | true                                  \n",
      " service_request_type   | Removal Of Obstruction                \n",
      " SLA_days               | 4.322222222                           \n",
      " case_status            | Closed                                \n",
      " request_address        | 2215  GOLIAD RD, San Antonio, 78223   \n",
      " council_district       | 3                                     \n",
      " dept_name              | Trans & Cap Improvements              \n",
      " standardized_dept_name | Trans & Cap Improvements              \n",
      " dept_subject_to_SLA    | YES                                   \n",
      " source_username        | svcCRMSS                              \n",
      " case_lifetime          | 2                                     \n",
      "-RECORD 2-------------------------------------------------------\n",
      " source_id              | svcCRMSS                              \n",
      " dept_division          | Storm Water                           \n",
      " case_id                | 1014127334                            \n",
      " case_opened_date       | 2018-01-01 00:48:00                   \n",
      " case_closed_date       | 2018-01-02 07:57:00                   \n",
      " case_due_date          | 2018-01-05 08:30:00                   \n",
      " case_late              | false                                 \n",
      " num_days_late          | -3.022337963                          \n",
      " case_closed            | true                                  \n",
      " service_request_type   | Removal Of Obstruction                \n",
      " SLA_days               | 4.320729167                           \n",
      " case_status            | Closed                                \n",
      " request_address        | 102  PALFREY ST W, San Antonio, 78223 \n",
      " council_district       | 3                                     \n",
      " dept_name              | Trans & Cap Improvements              \n",
      " standardized_dept_name | Trans & Cap Improvements              \n",
      " dept_subject_to_SLA    | YES                                   \n",
      " source_username        | svcCRMSS                              \n",
      " case_lifetime          | 1                                     \n",
      "only showing top 3 rows\n",
      "\n"
     ]
    }
   ],
   "source": [
    "df.show(3, False, True)"
   ]
  },
  {
   "cell_type": "markdown",
   "metadata": {},
   "source": [
    "1. How many different cases are there, by department?"
   ]
  },
  {
   "cell_type": "code",
   "execution_count": 55,
   "metadata": {},
   "outputs": [
    {
     "name": "stdout",
     "output_type": "stream",
     "text": [
      "+----------+-----+\n",
      "|case_id   |count|\n",
      "+----------+-----+\n",
      "|1014484191|4    |\n",
      "|1013624603|4    |\n",
      "|1013337553|3    |\n",
      "|1014441510|2    |\n",
      "|1014334917|2    |\n",
      "|1013338269|2    |\n",
      "|1014387863|2    |\n",
      "|1013892742|2    |\n",
      "|1014485338|2    |\n",
      "|1014329608|2    |\n",
      "|1013291587|2    |\n",
      "|1014618059|2    |\n",
      "|1014135118|2    |\n",
      "|1013876173|2    |\n",
      "|1013332191|2    |\n",
      "|1014379812|2    |\n",
      "|1014381208|2    |\n",
      "|1014384578|2    |\n",
      "|1013693732|2    |\n",
      "|1014391588|2    |\n",
      "|1014414732|2    |\n",
      "|1014161951|2    |\n",
      "|1013303617|2    |\n",
      "|1014282308|2    |\n",
      "|1014392643|2    |\n",
      "|1013814057|2    |\n",
      "|1013316612|2    |\n",
      "|1014281566|2    |\n",
      "|1014625125|2    |\n",
      "|1014645531|2    |\n",
      "|1014677129|2    |\n",
      "|1014717420|2    |\n",
      "|1013257998|2    |\n",
      "|1013268287|2    |\n",
      "|1013726960|2    |\n",
      "|1013291613|2    |\n",
      "|1013298968|2    |\n",
      "|1013300761|2    |\n",
      "|1013306384|2    |\n",
      "|1013307469|2    |\n",
      "|1014334937|2    |\n",
      "|1014280287|2    |\n",
      "|1014363240|2    |\n",
      "|1014133964|2    |\n",
      "|1013309827|2    |\n",
      "|1014138381|2    |\n",
      "|1014365846|2    |\n",
      "|1014392380|2    |\n",
      "|1014440028|2    |\n",
      "|1013739597|2    |\n",
      "|1014372104|2    |\n",
      "|1014283749|2    |\n",
      "|1013320296|2    |\n",
      "|1013487280|2    |\n",
      "|1013536896|2    |\n",
      "|1013538527|2    |\n",
      "|1013550494|2    |\n",
      "|1013557566|2    |\n",
      "|1013577291|2    |\n",
      "|1013583646|2    |\n",
      "|1013606161|2    |\n",
      "|1013612557|2    |\n",
      "|1013612943|2    |\n",
      "|1013633511|2    |\n",
      "|1013635031|2    |\n",
      "|1013668767|2    |\n",
      "|1013730529|2    |\n",
      "|1013745878|2    |\n",
      "|1013760314|2    |\n",
      "|1013766258|2    |\n",
      "|1013783721|2    |\n",
      "|1013786820|2    |\n",
      "|1013790351|2    |\n",
      "|1013803520|2    |\n",
      "|1013855003|2    |\n",
      "|1013871785|2    |\n",
      "|1013318250|2    |\n",
      "|1014430024|2    |\n",
      "|1013350657|2    |\n",
      "|1014287245|2    |\n",
      "|1013358871|2    |\n",
      "|1014430267|2    |\n",
      "|1013363542|2    |\n",
      "|1014311924|2    |\n",
      "|1013366139|2    |\n",
      "|1014493353|2    |\n",
      "|1013394533|2    |\n",
      "|1014478310|2    |\n",
      "|1013421782|2    |\n",
      "|1014518139|2    |\n",
      "|1013456631|2    |\n",
      "|1014384162|2    |\n",
      "|1013461397|2    |\n",
      "|1014530304|2    |\n",
      "|1013463282|2    |\n",
      "|1013735010|2    |\n",
      "|1013466350|2    |\n",
      "|1014584344|2    |\n",
      "|1013477354|2    |\n",
      "|1014324882|2    |\n",
      "+----------+-----+\n",
      "only showing top 100 rows\n",
      "\n"
     ]
    }
   ],
   "source": [
    "all_cases = (\n",
    "    df.groupby('case_id')\n",
    "    .count()\n",
    "    .sort(col('count').desc())\n",
    "    .show(100, False)\n",
    ")"
   ]
  },
  {
   "cell_type": "code",
   "execution_count": null,
   "metadata": {},
   "outputs": [],
   "source": []
  },
  {
   "cell_type": "code",
   "execution_count": 52,
   "metadata": {},
   "outputs": [
    {
     "name": "stdout",
     "output_type": "stream",
     "text": [
      "-RECORD 0------------------------------------------------------\n",
      " source_id              | 138650                               \n",
      " dept_division          | Miscellaneous                        \n",
      " case_id                | 1014139909                           \n",
      " case_opened_date       | 2018-01-05 19:15:00                  \n",
      " case_closed_date       | 2018-01-06 09:29:00                  \n",
      " case_due_date          | 2018-01-07 19:15:00                  \n",
      " case_late              | false                                \n",
      " num_days_late          | -1.4070949069999998                  \n",
      " case_closed            | true                                 \n",
      " service_request_type   | Dead Animal - Dog                    \n",
      " SLA_days               | 2.0                                  \n",
      " case_status            | Closed                               \n",
      " request_address        | 2120  TAMPICO ST, San Antonio, 78207 \n",
      " council_district       | 5                                    \n",
      " dept_name              | Solid Waste Management               \n",
      " standardized_dept_name | Solid Waste                          \n",
      " dept_subject_to_SLA    | YES                                  \n",
      " source_username        | Kimberly Green-Woods                 \n",
      " case_lifetime          | 1                                    \n",
      "-RECORD 1------------------------------------------------------\n",
      " source_id              | 138650                               \n",
      " dept_division          | Miscellaneous                        \n",
      " case_id                | 1014139909                           \n",
      " case_opened_date       | 2018-01-05 19:15:00                  \n",
      " case_closed_date       | 2018-01-06 09:29:00                  \n",
      " case_due_date          | 2018-01-07 19:15:00                  \n",
      " case_late              | false                                \n",
      " num_days_late          | -1.4070949069999998                  \n",
      " case_closed            | true                                 \n",
      " service_request_type   | Dead Animal - Dog                    \n",
      " SLA_days               | 2.0                                  \n",
      " case_status            | Closed                               \n",
      " request_address        | 2120  TAMPICO ST, San Antonio, 78207 \n",
      " council_district       | 5                                    \n",
      " dept_name              | Solid Waste Management               \n",
      " standardized_dept_name | Solid Waste                          \n",
      " dept_subject_to_SLA    | YES                                  \n",
      " source_username        | Kimberly Green                       \n",
      " case_lifetime          | 1                                    \n",
      "\n"
     ]
    }
   ],
   "source": [
    "(\n",
    "    df.filter(df.case_id == 1014139909)\n",
    "    .show(10, False, True)\n",
    ")"
   ]
  },
  {
   "cell_type": "code",
   "execution_count": 7,
   "metadata": {},
   "outputs": [
    {
     "name": "stdout",
     "output_type": "stream",
     "text": [
      "+-------------------------+------+\n",
      "|dept_name                |count |\n",
      "+-------------------------+------+\n",
      "|Code Enforcement Services|321984|\n",
      "|Solid Waste Management   |286287|\n",
      "|Animal Care Services     |119362|\n",
      "|Trans & Cap Improvements |97841 |\n",
      "|Parks and Recreation     |19964 |\n",
      "|Metro Health             |5313  |\n",
      "|Customer Service         |2889  |\n",
      "|Development Services     |1397  |\n",
      "|null                     |198   |\n",
      "|City Council             |34    |\n",
      "+-------------------------+------+\n",
      "\n"
     ]
    }
   ],
   "source": [
    "# Group by dept\n",
    "# agg function to get the sum of cases\n",
    "\n",
    "(\n",
    "    df.groupby('dept_name')\n",
    "    .count()\n",
    "    .sort(col('count').desc())\n",
    "    .show(20, truncate=False)\n",
    ")"
   ]
  },
  {
   "cell_type": "markdown",
   "metadata": {},
   "source": [
    "2. Does the percentage of cases that are late vary by department?"
   ]
  },
  {
   "cell_type": "code",
   "execution_count": null,
   "metadata": {},
   "outputs": [],
   "source": []
  },
  {
   "cell_type": "markdown",
   "metadata": {},
   "source": [
    "3. On average, how late are the late cases by department?"
   ]
  },
  {
   "cell_type": "code",
   "execution_count": null,
   "metadata": {},
   "outputs": [],
   "source": []
  },
  {
   "cell_type": "markdown",
   "metadata": {},
   "source": [
    "4. What is the service type that is the most late? Just for Parks & Rec?"
   ]
  },
  {
   "cell_type": "code",
   "execution_count": null,
   "metadata": {},
   "outputs": [],
   "source": []
  },
  {
   "cell_type": "markdown",
   "metadata": {},
   "source": [
    "5. For the DSD/Code Enforcement department, what are the most common service request types? Look at other departments too."
   ]
  },
  {
   "cell_type": "code",
   "execution_count": null,
   "metadata": {},
   "outputs": [],
   "source": []
  },
  {
   "cell_type": "markdown",
   "metadata": {},
   "source": [
    "6. Does whether or not its a weekend matter for when a case is opened/closed?"
   ]
  },
  {
   "cell_type": "code",
   "execution_count": null,
   "metadata": {},
   "outputs": [],
   "source": []
  },
  {
   "cell_type": "markdown",
   "metadata": {},
   "source": [
    "7. On average, how many cases are opened a day for the Customer Service department?"
   ]
  },
  {
   "cell_type": "code",
   "execution_count": 44,
   "metadata": {},
   "outputs": [
    {
     "name": "stdout",
     "output_type": "stream",
     "text": [
      "+----------------+----------------+\n",
      "|       dept_name|case_opened_date|\n",
      "+----------------+----------------+\n",
      "|Customer Service|      2018-01-02|\n",
      "|Customer Service|      2018-01-02|\n",
      "|Customer Service|      2018-01-02|\n",
      "|Customer Service|      2018-01-03|\n",
      "|Customer Service|      2018-01-03|\n",
      "+----------------+----------------+\n",
      "only showing top 5 rows\n",
      "\n"
     ]
    }
   ],
   "source": [
    "# filter to only show Customer Service requests\n",
    "cases_by_day = (df.filter\n",
    "    (df.dept_name == 'Customer Service')\n",
    "    .select(\n",
    "    \"dept_name\",\n",
    "# format our dates to remove time, and just show year/month/day\n",
    "    date_format(\"case_opened_date\", \"yyyy-MM-dd\").alias(\"case_opened_date\"),\n",
    ")\n",
    "               )\n",
    "cases_by_day.show(5)"
   ]
  },
  {
   "cell_type": "code",
   "execution_count": 45,
   "metadata": {},
   "outputs": [],
   "source": [
    "# assign a new dataframe from our spark dataframe called cases opened by day\n",
    "cases_opened_by_day = (\n",
    "# reference cases by day that we just created\n",
    "    cases_by_day\n",
    "# group by case opened date\n",
    "    .groupby('case_opened_date')\n",
    "# aggregate by count\n",
    "    .count()\n",
    "# drop any null values\n",
    "    .na.drop()\n",
    "# sort by the dates    \n",
    "    .sort('case_opened_date')\n",
    "# send it to pandas\n",
    "    .toPandas()\n",
    "# turn case opened date into a pandas datetime    \n",
    "    .assign(case_opened_date=lambda df: pd.to_datetime(df.case_opened_date))\n",
    "# set the datetime as our index\n",
    "    .set_index('case_opened_date')\n",
    "# reference the count Series in our dataframe\n",
    "    ['count']\n",
    ")\n",
    "cases_opened_by_day.name = 'cases_opened'"
   ]
  },
  {
   "cell_type": "code",
   "execution_count": 46,
   "metadata": {},
   "outputs": [
    {
     "name": "stdout",
     "output_type": "stream",
     "text": [
      "There are an average of 5.6 cases opened per day in Customer Service\n"
     ]
    }
   ],
   "source": [
    "# How many cases are opened per day on average in Customer Service\n",
    "answer = cases_opened_by_day.mean()\n",
    "\n",
    "print(f'There are an average of {answer:.2} cases opened per day in Customer Service')"
   ]
  },
  {
   "cell_type": "code",
   "execution_count": 85,
   "metadata": {},
   "outputs": [
    {
     "name": "stdout",
     "output_type": "stream",
     "text": [
      "There are an average of 550.4 cases opened per day in Code Enforcement Services\n",
      "There are an average of 489.4 cases opened per day in Solid Waste Management\n",
      "There are an average of 204.0 cases opened per day in Animal Care Services\n",
      "There are an average of 167.2 cases opened per day in Trans & Cap Improvements\n",
      "There are an average of 34.6 cases opened per day in Parks and Recreation\n",
      "There are an average of 11.02 cases opened per day in Metro Health\n",
      "There are an average of 5.643 cases opened per day in Customer Service\n",
      "There are an average of 3.111 cases opened per day in Development Services\n",
      "There are an average of 1.214 cases opened per day in City Council\n"
     ]
    }
   ],
   "source": [
    "# can I show the average number od cases opened per day in each dept?\n",
    "\n",
    "# create a list of all departments\n",
    "dept_list = ['Code Enforcement Services', \n",
    "            'Solid Waste Management',\n",
    "            'Animal Care Services', \n",
    "            'Trans & Cap Improvements', \n",
    "            'Parks and Recreation',\n",
    "            'Metro Health',\n",
    "            'Customer Service', \n",
    "            'Development Services',  \n",
    "            'City Council']\n",
    "\n",
    "avg_df = pd.DataFrame(columns=['dept', 'daily_avg'])\n",
    "\n",
    "for dept in dept_list:\n",
    "    \n",
    "    # assign a new dataframe from our spark dataframe called cases opened by day\n",
    "    cases_opened_by_day = (df.filter\n",
    "    (df.dept_name == dept)\n",
    "    .select(\n",
    "    \"dept_name\",\n",
    "# format our dates to remove time, and just show year/month/day\n",
    "    date_format(\"case_opened_date\", \"yyyy-MM-dd\").alias(\"case_opened_date\"),\n",
    ")\n",
    "        \n",
    "     \n",
    "# group by case opened date\n",
    "    .groupby('case_opened_date')\n",
    "# aggregate by count\n",
    "    .count()\n",
    "# drop any null values\n",
    "    .na.drop()\n",
    "# sort by the dates    \n",
    "    .sort('case_opened_date')\n",
    "# send it to pandas\n",
    "    .toPandas()\n",
    "# turn case opened date into a pandas datetime    \n",
    "    .assign(case_opened_date=lambda df: pd.to_datetime(df.case_opened_date))\n",
    "# set the datetime as our index\n",
    "    .set_index('case_opened_date')\n",
    "# reference the count Series in our dataframe\n",
    "    ['count']\n",
    ")\n",
    "    cases_opened_by_day.name = 'cases_opened'\n",
    "    \n",
    "    answer = cases_opened_by_day.mean() \n",
    "    \n",
    "    avg_df = avg_df.append(\n",
    "    {\n",
    "    'dept': dept,\n",
    "    'daily_avg': answer}, ignore_index=True)\n",
    "    \n",
    "\n",
    "    print(f'There are an average of {answer:.4} cases opened per day in {dept}')"
   ]
  },
  {
   "cell_type": "code",
   "execution_count": 84,
   "metadata": {},
   "outputs": [
    {
     "data": {
      "text/html": [
       "<div>\n",
       "<style scoped>\n",
       "    .dataframe tbody tr th:only-of-type {\n",
       "        vertical-align: middle;\n",
       "    }\n",
       "\n",
       "    .dataframe tbody tr th {\n",
       "        vertical-align: top;\n",
       "    }\n",
       "\n",
       "    .dataframe thead th {\n",
       "        text-align: right;\n",
       "    }\n",
       "</style>\n",
       "<table border=\"1\" class=\"dataframe\">\n",
       "  <thead>\n",
       "    <tr style=\"text-align: right;\">\n",
       "      <th></th>\n",
       "      <th>dept</th>\n",
       "      <th>daily_avg</th>\n",
       "    </tr>\n",
       "  </thead>\n",
       "  <tbody>\n",
       "    <tr>\n",
       "      <th>0</th>\n",
       "      <td>Code Enforcement Services</td>\n",
       "      <td>550.400000</td>\n",
       "    </tr>\n",
       "    <tr>\n",
       "      <th>1</th>\n",
       "      <td>Solid Waste Management</td>\n",
       "      <td>489.379487</td>\n",
       "    </tr>\n",
       "    <tr>\n",
       "      <th>2</th>\n",
       "      <td>Animal Care Services</td>\n",
       "      <td>204.037607</td>\n",
       "    </tr>\n",
       "    <tr>\n",
       "      <th>3</th>\n",
       "      <td>Trans &amp; Cap Improvements</td>\n",
       "      <td>167.249573</td>\n",
       "    </tr>\n",
       "    <tr>\n",
       "      <th>4</th>\n",
       "      <td>Parks and Recreation</td>\n",
       "      <td>34.599653</td>\n",
       "    </tr>\n",
       "    <tr>\n",
       "      <th>5</th>\n",
       "      <td>Metro Health</td>\n",
       "      <td>11.022822</td>\n",
       "    </tr>\n",
       "    <tr>\n",
       "      <th>6</th>\n",
       "      <td>Customer Service</td>\n",
       "      <td>5.642578</td>\n",
       "    </tr>\n",
       "    <tr>\n",
       "      <th>7</th>\n",
       "      <td>Development Services</td>\n",
       "      <td>3.111359</td>\n",
       "    </tr>\n",
       "    <tr>\n",
       "      <th>8</th>\n",
       "      <td>null</td>\n",
       "      <td>NaN</td>\n",
       "    </tr>\n",
       "    <tr>\n",
       "      <th>9</th>\n",
       "      <td>City Council</td>\n",
       "      <td>1.214286</td>\n",
       "    </tr>\n",
       "  </tbody>\n",
       "</table>\n",
       "</div>"
      ],
      "text/plain": [
       "                        dept   daily_avg\n",
       "0  Code Enforcement Services  550.400000\n",
       "1     Solid Waste Management  489.379487\n",
       "2       Animal Care Services  204.037607\n",
       "3   Trans & Cap Improvements  167.249573\n",
       "4       Parks and Recreation   34.599653\n",
       "5               Metro Health   11.022822\n",
       "6           Customer Service    5.642578\n",
       "7       Development Services    3.111359\n",
       "8                       null         NaN\n",
       "9               City Council    1.214286"
      ]
     },
     "execution_count": 84,
     "metadata": {},
     "output_type": "execute_result"
    }
   ],
   "source": [
    "avg_df"
   ]
  },
  {
   "cell_type": "code",
   "execution_count": null,
   "metadata": {},
   "outputs": [],
   "source": []
  },
  {
   "cell_type": "code",
   "execution_count": null,
   "metadata": {},
   "outputs": [],
   "source": []
  },
  {
   "cell_type": "code",
   "execution_count": null,
   "metadata": {},
   "outputs": [],
   "source": []
  },
  {
   "cell_type": "markdown",
   "metadata": {},
   "source": [
    "8. Does the number of service requests for the solid waste department vary by day of the week?"
   ]
  },
  {
   "cell_type": "code",
   "execution_count": null,
   "metadata": {},
   "outputs": [],
   "source": []
  }
 ],
 "metadata": {
  "kernelspec": {
   "display_name": "Python 3.8.5 64-bit ('base': conda)",
   "language": "python",
   "name": "python385jvsc74a57bd0b64057e63add2b45b1ffc7eab9b09c8889b419c878e2fdf0d08f837f0fc857a7"
  },
  "language_info": {
   "codemirror_mode": {
    "name": "ipython",
    "version": 3
   },
   "file_extension": ".py",
   "mimetype": "text/x-python",
   "name": "python",
   "nbconvert_exporter": "python",
   "pygments_lexer": "ipython3",
   "version": "3.8.5"
  }
 },
 "nbformat": 4,
 "nbformat_minor": 4
}
